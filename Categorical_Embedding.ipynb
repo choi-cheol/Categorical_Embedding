{
 "cells": [
  {
   "cell_type": "code",
   "execution_count": 42,
   "metadata": {},
   "outputs": [],
   "source": [
    "import numpy as np\n",
    "import pandas as pd\n",
    "import matplotlib.pyplot as plt\n",
    "import tensorflow as tf\n",
    "from tensorflow import keras\n",
    "import sklearn"
   ]
  },
  {
   "cell_type": "code",
   "execution_count": 43,
   "metadata": {},
   "outputs": [],
   "source": [
    "train_data = pd.read_csv('C:/Users/cc/Desktop/Kaggle/Kaggle_feature_encoding/train.csv')\n",
    "test_data = pd.read_csv('C:/Users/cc/Desktop/Kaggle/Kaggle_feature_encoding/test.csv')"
   ]
  },
  {
   "cell_type": "code",
   "execution_count": 44,
   "metadata": {
    "scrolled": true
   },
   "outputs": [],
   "source": [
    "train_data.set_index('id', inplace=True)\n",
    "test_data.set_index('id', inplace=True)"
   ]
  },
  {
   "cell_type": "code",
   "execution_count": 45,
   "metadata": {},
   "outputs": [
    {
     "data": {
      "text/html": [
       "<div>\n",
       "<style scoped>\n",
       "    .dataframe tbody tr th:only-of-type {\n",
       "        vertical-align: middle;\n",
       "    }\n",
       "\n",
       "    .dataframe tbody tr th {\n",
       "        vertical-align: top;\n",
       "    }\n",
       "\n",
       "    .dataframe thead th {\n",
       "        text-align: right;\n",
       "    }\n",
       "</style>\n",
       "<table border=\"1\" class=\"dataframe\">\n",
       "  <thead>\n",
       "    <tr style=\"text-align: right;\">\n",
       "      <th></th>\n",
       "      <th>bin_0</th>\n",
       "      <th>bin_1</th>\n",
       "      <th>bin_2</th>\n",
       "      <th>bin_3</th>\n",
       "      <th>bin_4</th>\n",
       "      <th>nom_0</th>\n",
       "      <th>nom_1</th>\n",
       "      <th>nom_2</th>\n",
       "      <th>nom_3</th>\n",
       "      <th>nom_4</th>\n",
       "      <th>...</th>\n",
       "      <th>nom_9</th>\n",
       "      <th>ord_0</th>\n",
       "      <th>ord_1</th>\n",
       "      <th>ord_2</th>\n",
       "      <th>ord_3</th>\n",
       "      <th>ord_4</th>\n",
       "      <th>ord_5</th>\n",
       "      <th>day</th>\n",
       "      <th>month</th>\n",
       "      <th>target</th>\n",
       "    </tr>\n",
       "    <tr>\n",
       "      <th>id</th>\n",
       "      <th></th>\n",
       "      <th></th>\n",
       "      <th></th>\n",
       "      <th></th>\n",
       "      <th></th>\n",
       "      <th></th>\n",
       "      <th></th>\n",
       "      <th></th>\n",
       "      <th></th>\n",
       "      <th></th>\n",
       "      <th></th>\n",
       "      <th></th>\n",
       "      <th></th>\n",
       "      <th></th>\n",
       "      <th></th>\n",
       "      <th></th>\n",
       "      <th></th>\n",
       "      <th></th>\n",
       "      <th></th>\n",
       "      <th></th>\n",
       "      <th></th>\n",
       "    </tr>\n",
       "  </thead>\n",
       "  <tbody>\n",
       "    <tr>\n",
       "      <th>0</th>\n",
       "      <td>0</td>\n",
       "      <td>0</td>\n",
       "      <td>0</td>\n",
       "      <td>T</td>\n",
       "      <td>Y</td>\n",
       "      <td>Green</td>\n",
       "      <td>Triangle</td>\n",
       "      <td>Snake</td>\n",
       "      <td>Finland</td>\n",
       "      <td>Bassoon</td>\n",
       "      <td>...</td>\n",
       "      <td>2f4cb3d51</td>\n",
       "      <td>2</td>\n",
       "      <td>Grandmaster</td>\n",
       "      <td>Cold</td>\n",
       "      <td>h</td>\n",
       "      <td>D</td>\n",
       "      <td>kr</td>\n",
       "      <td>2</td>\n",
       "      <td>2</td>\n",
       "      <td>0</td>\n",
       "    </tr>\n",
       "    <tr>\n",
       "      <th>1</th>\n",
       "      <td>0</td>\n",
       "      <td>1</td>\n",
       "      <td>0</td>\n",
       "      <td>T</td>\n",
       "      <td>Y</td>\n",
       "      <td>Green</td>\n",
       "      <td>Trapezoid</td>\n",
       "      <td>Hamster</td>\n",
       "      <td>Russia</td>\n",
       "      <td>Piano</td>\n",
       "      <td>...</td>\n",
       "      <td>f83c56c21</td>\n",
       "      <td>1</td>\n",
       "      <td>Grandmaster</td>\n",
       "      <td>Hot</td>\n",
       "      <td>a</td>\n",
       "      <td>A</td>\n",
       "      <td>bF</td>\n",
       "      <td>7</td>\n",
       "      <td>8</td>\n",
       "      <td>0</td>\n",
       "    </tr>\n",
       "    <tr>\n",
       "      <th>2</th>\n",
       "      <td>0</td>\n",
       "      <td>0</td>\n",
       "      <td>0</td>\n",
       "      <td>F</td>\n",
       "      <td>Y</td>\n",
       "      <td>Blue</td>\n",
       "      <td>Trapezoid</td>\n",
       "      <td>Lion</td>\n",
       "      <td>Russia</td>\n",
       "      <td>Theremin</td>\n",
       "      <td>...</td>\n",
       "      <td>ae6800dd0</td>\n",
       "      <td>1</td>\n",
       "      <td>Expert</td>\n",
       "      <td>Lava Hot</td>\n",
       "      <td>h</td>\n",
       "      <td>R</td>\n",
       "      <td>Jc</td>\n",
       "      <td>7</td>\n",
       "      <td>2</td>\n",
       "      <td>0</td>\n",
       "    </tr>\n",
       "    <tr>\n",
       "      <th>3</th>\n",
       "      <td>0</td>\n",
       "      <td>1</td>\n",
       "      <td>0</td>\n",
       "      <td>F</td>\n",
       "      <td>Y</td>\n",
       "      <td>Red</td>\n",
       "      <td>Trapezoid</td>\n",
       "      <td>Snake</td>\n",
       "      <td>Canada</td>\n",
       "      <td>Oboe</td>\n",
       "      <td>...</td>\n",
       "      <td>8270f0d71</td>\n",
       "      <td>1</td>\n",
       "      <td>Grandmaster</td>\n",
       "      <td>Boiling Hot</td>\n",
       "      <td>i</td>\n",
       "      <td>D</td>\n",
       "      <td>kW</td>\n",
       "      <td>2</td>\n",
       "      <td>1</td>\n",
       "      <td>1</td>\n",
       "    </tr>\n",
       "    <tr>\n",
       "      <th>4</th>\n",
       "      <td>0</td>\n",
       "      <td>0</td>\n",
       "      <td>0</td>\n",
       "      <td>F</td>\n",
       "      <td>N</td>\n",
       "      <td>Red</td>\n",
       "      <td>Trapezoid</td>\n",
       "      <td>Lion</td>\n",
       "      <td>Canada</td>\n",
       "      <td>Oboe</td>\n",
       "      <td>...</td>\n",
       "      <td>b164b72a7</td>\n",
       "      <td>1</td>\n",
       "      <td>Grandmaster</td>\n",
       "      <td>Freezing</td>\n",
       "      <td>a</td>\n",
       "      <td>R</td>\n",
       "      <td>qP</td>\n",
       "      <td>7</td>\n",
       "      <td>8</td>\n",
       "      <td>0</td>\n",
       "    </tr>\n",
       "  </tbody>\n",
       "</table>\n",
       "<p>5 rows × 24 columns</p>\n",
       "</div>"
      ],
      "text/plain": [
       "    bin_0  bin_1  bin_2 bin_3 bin_4  nom_0      nom_1    nom_2    nom_3  \\\n",
       "id                                                                        \n",
       "0       0      0      0     T     Y  Green   Triangle    Snake  Finland   \n",
       "1       0      1      0     T     Y  Green  Trapezoid  Hamster   Russia   \n",
       "2       0      0      0     F     Y   Blue  Trapezoid     Lion   Russia   \n",
       "3       0      1      0     F     Y    Red  Trapezoid    Snake   Canada   \n",
       "4       0      0      0     F     N    Red  Trapezoid     Lion   Canada   \n",
       "\n",
       "       nom_4  ...      nom_9 ord_0        ord_1        ord_2 ord_3  ord_4  \\\n",
       "id            ...                                                           \n",
       "0    Bassoon  ...  2f4cb3d51     2  Grandmaster         Cold     h      D   \n",
       "1      Piano  ...  f83c56c21     1  Grandmaster          Hot     a      A   \n",
       "2   Theremin  ...  ae6800dd0     1       Expert     Lava Hot     h      R   \n",
       "3       Oboe  ...  8270f0d71     1  Grandmaster  Boiling Hot     i      D   \n",
       "4       Oboe  ...  b164b72a7     1  Grandmaster     Freezing     a      R   \n",
       "\n",
       "   ord_5 day month target  \n",
       "id                         \n",
       "0     kr   2     2      0  \n",
       "1     bF   7     8      0  \n",
       "2     Jc   7     2      0  \n",
       "3     kW   2     1      1  \n",
       "4     qP   7     8      0  \n",
       "\n",
       "[5 rows x 24 columns]"
      ]
     },
     "execution_count": 45,
     "metadata": {},
     "output_type": "execute_result"
    }
   ],
   "source": [
    "train_data.head()"
   ]
  },
  {
   "cell_type": "code",
   "execution_count": 46,
   "metadata": {},
   "outputs": [
    {
     "data": {
      "text/plain": [
       "{'A': 0.0,\n",
       " 'B': 1.0,\n",
       " 'C': 2.0,\n",
       " 'D': 3.0,\n",
       " 'E': 4.0,\n",
       " 'F': 5.0,\n",
       " 'G': 6.0,\n",
       " 'H': 7.0,\n",
       " 'I': 8.0,\n",
       " 'J': 9.0,\n",
       " 'K': 10.0,\n",
       " 'L': 11.0,\n",
       " 'M': 12.0,\n",
       " 'N': 13.0,\n",
       " 'O': 14.0,\n",
       " 'P': 15.0,\n",
       " 'Q': 16.0,\n",
       " 'R': 17.0,\n",
       " 'S': 18.0,\n",
       " 'T': 19.0,\n",
       " 'U': 20.0,\n",
       " 'V': 21.0,\n",
       " 'W': 22.0,\n",
       " 'X': 23.0,\n",
       " 'Y': 24.0,\n",
       " 'Z': 25.0}"
      ]
     },
     "execution_count": 46,
     "metadata": {},
     "output_type": "execute_result"
    }
   ],
   "source": [
    "a = pd.Series(dict_ord4).reset_index()\n",
    "a['index'] = a['index'].map(lambda x : str.upper(x))\n",
    "a =a.set_index('index').to_dict()\n",
    "a[0]"
   ]
  },
  {
   "cell_type": "code",
   "execution_count": 47,
   "metadata": {},
   "outputs": [],
   "source": [
    "dict_ord1 = {'Novice' : 0.0, 'Contributor' : 1.0, 'Expert' : 2.0, 'Master' : 3.0, 'Grandmaster': 4.0}\n",
    "dict_ord3 = {'a': 0.0, 'b': 1.0, 'c': 2.0, 'd': 3.0, 'e': 4.0, 'f': 5.0, 'g': 6.0, 'h': 7.0, \n",
    "        'i': 8.0, 'j': 9.0, 'k': 10.0, 'l': 11.0, 'm': 12.0, 'n': 13.0, 'o': 14.0}\n",
    "dict_ord4 = {'A': 0.0, 'B': 1.0, 'C': 2.0, 'D': 3.0, 'E': 4.0, 'F': 5.0, 'G': 6.0, 'H': 7.0, 'I': 8.0, 'J': 9.0,\n",
    " 'K': 10.0, 'L': 11.0, 'M': 12.0, 'N': 13.0, 'O': 14.0, 'P': 15.0, 'Q': 16.0, 'R': 17.0, 'S': 18.0, 'T': 19.0,\n",
    " 'U': 20.0, 'V': 21.0, 'W': 22.0, 'X': 23.0, 'Y': 24.0, 'Z': 25.0}\n",
    "dict_ord5 = {'AP': 0, 'Ai': 1, 'Aj': 2, 'BA': 3, 'BE': 4, 'Bb': 5, 'Bd': 6, 'Bn': 7, 'CL': 8, 'CM': 9, 'CU': 10,\n",
    " 'CZ': 11, 'DH': 12, 'DN': 13, 'Dc': 14, 'Dx': 15, 'Ed': 16, 'Eg': 17, 'Er': 18, 'FI': 19, 'Fd': 20, 'Fo': 21, 'GD': 22,\n",
    " 'GJ': 23, 'Gb': 24, 'Gx': 25, 'Hj': 26, 'IK': 27, 'JX': 28, 'Jc': 29, 'Jf': 30, 'Jt': 31, 'KR': 32, 'KZ': 33, 'Kf': 34,\n",
    " 'Kq': 35, 'LE': 36, 'MC': 37, 'MO': 38, 'MV': 39, 'Mf': 40, 'Ml': 41, 'Mx': 42, 'NV': 43, 'Nf': 44, 'Nk': 45, 'OR': 46,\n",
    " 'Ob': 47, 'Os': 48, 'PA': 49, 'PQ': 50, 'PZ': 51, 'Ps': 52, 'QM': 53, 'Qb': 54, 'Qh': 55, 'Qo': 56, 'RG': 57, 'RL': 58,\n",
    " 'RP': 59, 'Rm': 60, 'Ry': 61, 'SB': 62, 'Sc': 63, 'TR': 64, 'TZ': 65, 'To': 66, 'UO': 67, 'Uk': 68, 'Uu': 69, 'Vf': 70,\n",
    " 'Vx': 71, 'WE': 72, 'Wc': 73, 'Wv': 74, 'XI': 75, 'Xh': 76, 'Xi': 77, 'YC': 78, 'Yb': 79, 'Ye': 80, 'ZR': 81, 'ZS': 82,\n",
    " 'Zq': 83, 'aF': 84, 'aM': 85, 'aO': 86, 'aP': 87, 'ac': 88, 'av': 89, 'bF': 90, 'bJ': 91, 'be': 92, 'cA': 93, 'cG': 94,\n",
    " 'cW': 95, 'ck': 96, 'cp': 97, 'dB': 98, 'dE': 99, 'dN': 100, 'dO': 101, 'dP': 102, 'dQ': 103, 'dZ': 104, 'dh': 105,\n",
    " 'eG': 106, 'eQ': 107, 'eb': 108, 'ek': 109, 'ex': 110, 'fO': 111, 'fh': 112, 'gJ': 113, 'gM': 114, 'hL': 115, 'hT': 116,\n",
    " 'hh': 117, 'hp': 118, 'iT': 119, 'ih': 120, 'jS': 121, 'jV': 122, 'je': 123, 'jp': 124, 'kC': 125, 'kE': 126, 'kK': 127,\n",
    " 'kL': 128, 'kW': 129, 'ke': 130, 'kr': 131, 'kw': 132, 'lF': 133, 'lL': 134, 'll': 135, 'lx': 136, 'mb': 137, 'mc': 138,\n",
    " 'mm': 139, 'nX': 140, 'nh': 141, 'oC': 142, 'oG': 143, 'oK': 144, 'od': 145, 'on': 146, 'ps': 147, 'qA': 148, 'qK': 149,\n",
    " 'qP': 150, 'qX': 151, 'qo': 152, 'qv': 153, 'qw': 154, 'rZ': 155, 'ri': 156, 'rp': 157, 'sD': 158, 'sV': 159, 'sY': 160,\n",
    " 'sn': 161, 'su': 162, 'tM': 163, 'tP': 164, 'tv': 165, 'uJ': 166, 'uS': 167, 'ud': 168, 'us': 169, 'ut': 170, 'uy': 171,\n",
    " 'vK': 172, 'vy': 173, 'wu': 174, 'wy': 175, 'xy': 176, 'yN': 177, 'yY': 178, 'yc': 179, 'zU': 180}"
   ]
  },
  {
   "cell_type": "code",
   "execution_count": 48,
   "metadata": {},
   "outputs": [],
   "source": [
    "def preprocessing(data):\n",
    "    data['bin_3'] = data['bin_3'].map(lambda x : 1 if x =='T' else 0)\n",
    "    data['bin_4'] = data['bin_4'].map(lambda x : 1 if x =='Y' else 0)    \n",
    "    data['ord_1'] = data['ord_1'].map(dict_ord1)\n",
    "    data['ord_2'] = data['ord_2'].map({'Freezing' : 0.0, 'Cold' : 1.0, 'Warm' : 2.0, 'Hot' : 3.0, 'Boiling Hot' : 4.0, 'Lava Hot' : 5.0})\n",
    "    data['ord_3'] = data['ord_3'].map(dict_ord3)\n",
    "    data['ord_4'] = data['ord_4'].map(dict_ord4)\n",
    "    data['ord_5'] = data['ord_5'].map(dict_ord5)\n",
    "    data = pd.get_dummies(data, columns=['nom_0', 'nom_1', 'nom_2', 'nom_3', 'nom_4'])\n",
    "    return data"
   ]
  },
  {
   "cell_type": "code",
   "execution_count": 49,
   "metadata": {},
   "outputs": [],
   "source": [
    "from category_encoders.target_encoder import TargetEncoder"
   ]
  },
  {
   "cell_type": "code",
   "execution_count": 50,
   "metadata": {},
   "outputs": [
    {
     "data": {
      "text/plain": [
       "['nom_5', 'nom_6', 'nom_7', 'nom_8', 'nom_9']"
      ]
     },
     "execution_count": 50,
     "metadata": {},
     "output_type": "execute_result"
    }
   ],
   "source": [
    "high_cat = train_data.iloc[:, 10:15].columns.tolist()\n",
    "high_cat"
   ]
  },
  {
   "cell_type": "code",
   "execution_count": 51,
   "metadata": {
    "scrolled": true
   },
   "outputs": [
    {
     "name": "stderr",
     "output_type": "stream",
     "text": [
      "C:\\Users\\cc\\Anaconda3\\lib\\site-packages\\category_encoders\\utils.py:21: FutureWarning: is_categorical is deprecated and will be removed in a future version.  Use is_categorical_dtype instead\n",
      "  elif pd.api.types.is_categorical(cols):\n"
     ]
    }
   ],
   "source": [
    "TE_encoder = TargetEncoder()\n",
    "train_te = TE_encoder.fit_transform(train_data[high_cat], train_data['target'])\n",
    "test_te = TE_encoder.transform(test_data[high_cat])"
   ]
  },
  {
   "cell_type": "code",
   "execution_count": 52,
   "metadata": {},
   "outputs": [],
   "source": [
    "train_data[high_cat] = train_te\n",
    "test_data[high_cat] = test_te"
   ]
  },
  {
   "cell_type": "code",
   "execution_count": 53,
   "metadata": {},
   "outputs": [],
   "source": [
    "train_data = preprocessing(train_data)\n",
    "test_data = preprocessing(test_data)"
   ]
  },
  {
   "cell_type": "code",
   "execution_count": 55,
   "metadata": {},
   "outputs": [
    {
     "name": "stdout",
     "output_type": "stream",
     "text": [
      "<class 'pandas.core.frame.DataFrame'>\n",
      "Int64Index: 300000 entries, 0 to 299999\n",
      "Data columns (total 44 columns):\n",
      " #   Column            Non-Null Count   Dtype  \n",
      "---  ------            --------------   -----  \n",
      " 0   bin_0             300000 non-null  int64  \n",
      " 1   bin_1             300000 non-null  int64  \n",
      " 2   bin_2             300000 non-null  int64  \n",
      " 3   bin_3             300000 non-null  int64  \n",
      " 4   bin_4             300000 non-null  int64  \n",
      " 5   nom_5             300000 non-null  float64\n",
      " 6   nom_6             300000 non-null  float64\n",
      " 7   nom_7             300000 non-null  float64\n",
      " 8   nom_8             300000 non-null  float64\n",
      " 9   nom_9             300000 non-null  float64\n",
      " 10  ord_0             300000 non-null  int64  \n",
      " 11  ord_1             300000 non-null  float64\n",
      " 12  ord_2             300000 non-null  float64\n",
      " 13  ord_3             300000 non-null  float64\n",
      " 14  ord_4             300000 non-null  float64\n",
      " 15  ord_5             298512 non-null  float64\n",
      " 16  day               300000 non-null  int64  \n",
      " 17  month             300000 non-null  int64  \n",
      " 18  target            300000 non-null  int64  \n",
      " 19  nom_0_Blue        300000 non-null  uint8  \n",
      " 20  nom_0_Green       300000 non-null  uint8  \n",
      " 21  nom_0_Red         300000 non-null  uint8  \n",
      " 22  nom_1_Circle      300000 non-null  uint8  \n",
      " 23  nom_1_Polygon     300000 non-null  uint8  \n",
      " 24  nom_1_Square      300000 non-null  uint8  \n",
      " 25  nom_1_Star        300000 non-null  uint8  \n",
      " 26  nom_1_Trapezoid   300000 non-null  uint8  \n",
      " 27  nom_1_Triangle    300000 non-null  uint8  \n",
      " 28  nom_2_Axolotl     300000 non-null  uint8  \n",
      " 29  nom_2_Cat         300000 non-null  uint8  \n",
      " 30  nom_2_Dog         300000 non-null  uint8  \n",
      " 31  nom_2_Hamster     300000 non-null  uint8  \n",
      " 32  nom_2_Lion        300000 non-null  uint8  \n",
      " 33  nom_2_Snake       300000 non-null  uint8  \n",
      " 34  nom_3_Canada      300000 non-null  uint8  \n",
      " 35  nom_3_China       300000 non-null  uint8  \n",
      " 36  nom_3_Costa Rica  300000 non-null  uint8  \n",
      " 37  nom_3_Finland     300000 non-null  uint8  \n",
      " 38  nom_3_India       300000 non-null  uint8  \n",
      " 39  nom_3_Russia      300000 non-null  uint8  \n",
      " 40  nom_4_Bassoon     300000 non-null  uint8  \n",
      " 41  nom_4_Oboe        300000 non-null  uint8  \n",
      " 42  nom_4_Piano       300000 non-null  uint8  \n",
      " 43  nom_4_Theremin    300000 non-null  uint8  \n",
      "dtypes: float64(10), int64(9), uint8(25)\n",
      "memory usage: 62.9 MB\n"
     ]
    }
   ],
   "source": [
    "train_data.info()"
   ]
  }
 ],
 "metadata": {
  "kernelspec": {
   "display_name": "Python 3",
   "language": "python",
   "name": "python3"
  },
  "language_info": {
   "codemirror_mode": {
    "name": "ipython",
    "version": 3
   },
   "file_extension": ".py",
   "mimetype": "text/x-python",
   "name": "python",
   "nbconvert_exporter": "python",
   "pygments_lexer": "ipython3",
   "version": "3.8.5"
  }
 },
 "nbformat": 4,
 "nbformat_minor": 4
}
